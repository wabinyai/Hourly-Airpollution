{
 "cells": [
  {
   "cell_type": "code",
   "execution_count": 6,
   "metadata": {},
   "outputs": [],
   "source": [
    "import pandas as pd\n",
    "import numpy as np\n",
    "\n"
   ]
  },
  {
   "cell_type": "code",
   "execution_count": 80,
   "metadata": {},
   "outputs": [],
   "source": [
    "#foo = r'C:\\Users\\ACER\\Desktop\\python project\\airqo/BugolobiHOULY.csv'\n",
    "\n",
    "foo = r'C:\\Users\\ACER\\Desktop\\python project\\airqo/BugolobiHOULYNUMPY2.csv'"
   ]
  },
  {
   "cell_type": "code",
   "execution_count": 83,
   "metadata": {},
   "outputs": [],
   "source": [
    "df = pd.read_csv(foo)\n"
   ]
  },
  {
   "cell_type": "code",
   "execution_count": 84,
   "metadata": {},
   "outputs": [
    {
     "data": {
      "text/html": [
       "<div>\n",
       "<style scoped>\n",
       "    .dataframe tbody tr th:only-of-type {\n",
       "        vertical-align: middle;\n",
       "    }\n",
       "\n",
       "    .dataframe tbody tr th {\n",
       "        vertical-align: top;\n",
       "    }\n",
       "\n",
       "    .dataframe thead th {\n",
       "        text-align: right;\n",
       "    }\n",
       "</style>\n",
       "<table border=\"1\" class=\"dataframe\">\n",
       "  <thead>\n",
       "    <tr style=\"text-align: right;\">\n",
       "      <th></th>\n",
       "      <th>Date</th>\n",
       "      <th>s2_pm2_5</th>\n",
       "      <th>Date.1</th>\n",
       "      <th>hour</th>\n",
       "      <th>dayofweek</th>\n",
       "      <th>month</th>\n",
       "      <th>Date.1.1</th>\n",
       "    </tr>\n",
       "  </thead>\n",
       "  <tbody>\n",
       "    <tr>\n",
       "      <th>0</th>\n",
       "      <td>2019-03-12 09:00:00</td>\n",
       "      <td>19.975000</td>\n",
       "      <td>2019-03-12 09:00:00</td>\n",
       "      <td>9</td>\n",
       "      <td>1</td>\n",
       "      <td>3</td>\n",
       "      <td>12.03.2019</td>\n",
       "    </tr>\n",
       "    <tr>\n",
       "      <th>1</th>\n",
       "      <td>2019-03-12 11:00:00</td>\n",
       "      <td>15.408571</td>\n",
       "      <td>2019-03-12 11:00:00</td>\n",
       "      <td>11</td>\n",
       "      <td>1</td>\n",
       "      <td>3</td>\n",
       "      <td>12.03.2019</td>\n",
       "    </tr>\n",
       "    <tr>\n",
       "      <th>2</th>\n",
       "      <td>2019-03-12 12:00:00</td>\n",
       "      <td>14.654348</td>\n",
       "      <td>2019-03-12 12:00:00</td>\n",
       "      <td>12</td>\n",
       "      <td>1</td>\n",
       "      <td>3</td>\n",
       "      <td>12.03.2019</td>\n",
       "    </tr>\n",
       "    <tr>\n",
       "      <th>3</th>\n",
       "      <td>2019-03-12 13:00:00</td>\n",
       "      <td>14.365435</td>\n",
       "      <td>2019-03-12 13:00:00</td>\n",
       "      <td>13</td>\n",
       "      <td>1</td>\n",
       "      <td>3</td>\n",
       "      <td>12.03.2019</td>\n",
       "    </tr>\n",
       "    <tr>\n",
       "      <th>4</th>\n",
       "      <td>2019-03-12 14:00:00</td>\n",
       "      <td>15.451739</td>\n",
       "      <td>2019-03-12 14:00:00</td>\n",
       "      <td>14</td>\n",
       "      <td>1</td>\n",
       "      <td>3</td>\n",
       "      <td>12.03.2019</td>\n",
       "    </tr>\n",
       "    <tr>\n",
       "      <th>...</th>\n",
       "      <td>...</td>\n",
       "      <td>...</td>\n",
       "      <td>...</td>\n",
       "      <td>...</td>\n",
       "      <td>...</td>\n",
       "      <td>...</td>\n",
       "      <td>...</td>\n",
       "    </tr>\n",
       "    <tr>\n",
       "      <th>174</th>\n",
       "      <td>2019-03-19 16:00:00</td>\n",
       "      <td>34.651304</td>\n",
       "      <td>2019-03-19 16:00:00</td>\n",
       "      <td>16</td>\n",
       "      <td>1</td>\n",
       "      <td>3</td>\n",
       "      <td>19.03.2019</td>\n",
       "    </tr>\n",
       "    <tr>\n",
       "      <th>175</th>\n",
       "      <td>2019-03-19 17:00:00</td>\n",
       "      <td>40.095778</td>\n",
       "      <td>2019-03-19 17:00:00</td>\n",
       "      <td>17</td>\n",
       "      <td>1</td>\n",
       "      <td>3</td>\n",
       "      <td>19.03.2019</td>\n",
       "    </tr>\n",
       "    <tr>\n",
       "      <th>176</th>\n",
       "      <td>2019-03-19 18:00:00</td>\n",
       "      <td>38.870652</td>\n",
       "      <td>2019-03-19 18:00:00</td>\n",
       "      <td>18</td>\n",
       "      <td>1</td>\n",
       "      <td>3</td>\n",
       "      <td>19.03.2019</td>\n",
       "    </tr>\n",
       "    <tr>\n",
       "      <th>177</th>\n",
       "      <td>2019-03-19 19:00:00</td>\n",
       "      <td>36.857609</td>\n",
       "      <td>2019-03-19 19:00:00</td>\n",
       "      <td>19</td>\n",
       "      <td>1</td>\n",
       "      <td>3</td>\n",
       "      <td>19.03.2019</td>\n",
       "    </tr>\n",
       "    <tr>\n",
       "      <th>178</th>\n",
       "      <td>2019-03-19 20:00:00</td>\n",
       "      <td>36.930000</td>\n",
       "      <td>2019-03-19 20:00:00</td>\n",
       "      <td>20</td>\n",
       "      <td>1</td>\n",
       "      <td>3</td>\n",
       "      <td>19.03.2019</td>\n",
       "    </tr>\n",
       "  </tbody>\n",
       "</table>\n",
       "<p>179 rows × 7 columns</p>\n",
       "</div>"
      ],
      "text/plain": [
       "                    Date   s2_pm2_5               Date.1  hour  dayofweek  \\\n",
       "0    2019-03-12 09:00:00  19.975000  2019-03-12 09:00:00     9          1   \n",
       "1    2019-03-12 11:00:00  15.408571  2019-03-12 11:00:00    11          1   \n",
       "2    2019-03-12 12:00:00  14.654348  2019-03-12 12:00:00    12          1   \n",
       "3    2019-03-12 13:00:00  14.365435  2019-03-12 13:00:00    13          1   \n",
       "4    2019-03-12 14:00:00  15.451739  2019-03-12 14:00:00    14          1   \n",
       "..                   ...        ...                  ...   ...        ...   \n",
       "174  2019-03-19 16:00:00  34.651304  2019-03-19 16:00:00    16          1   \n",
       "175  2019-03-19 17:00:00  40.095778  2019-03-19 17:00:00    17          1   \n",
       "176  2019-03-19 18:00:00  38.870652  2019-03-19 18:00:00    18          1   \n",
       "177  2019-03-19 19:00:00  36.857609  2019-03-19 19:00:00    19          1   \n",
       "178  2019-03-19 20:00:00  36.930000  2019-03-19 20:00:00    20          1   \n",
       "\n",
       "     month    Date.1.1  \n",
       "0        3  12.03.2019  \n",
       "1        3  12.03.2019  \n",
       "2        3  12.03.2019  \n",
       "3        3  12.03.2019  \n",
       "4        3  12.03.2019  \n",
       "..     ...         ...  \n",
       "174      3  19.03.2019  \n",
       "175      3  19.03.2019  \n",
       "176      3  19.03.2019  \n",
       "177      3  19.03.2019  \n",
       "178      3  19.03.2019  \n",
       "\n",
       "[179 rows x 7 columns]"
      ]
     },
     "execution_count": 84,
     "metadata": {},
     "output_type": "execute_result"
    }
   ],
   "source": [
    "df"
   ]
  },
  {
   "cell_type": "code",
   "execution_count": 79,
   "metadata": {},
   "outputs": [],
   "source": [
    "# saving \n",
    "# saving the houry average data fro PM2.5\n",
    "df.to_csv(r'C:\\Users\\ACER\\Desktop\\python project\\airqo/BugolobiHOULYNUMPY2.csv',index = True)"
   ]
  },
  {
   "cell_type": "code",
   "execution_count": 77,
   "metadata": {},
   "outputs": [],
   "source": [
    "df['Date'] = df.index\n",
    "\n",
    "df['hour'] = df['Date'].dt.hour\n",
    "df['dayofweek'] = df['Date'].dt.dayofweek\n",
    "df['month'] = df['Date'].dt.month\n",
    "df['Date'] = df['Date'].dt.strftime('%d.%m.%Y')\n",
    "\n",
    "\n"
   ]
  },
  {
   "cell_type": "code",
   "execution_count": 90,
   "metadata": {},
   "outputs": [],
   "source": [
    "x = df['hour']\n",
    "y = df['s2_pm2_5']"
   ]
  },
  {
   "cell_type": "code",
   "execution_count": 86,
   "metadata": {},
   "outputs": [],
   "source": [
    " #Using numpy to read the data\n",
    "data1 = np.genfromtxt(foo,  delimiter=',', skip_header=1)\n",
    "#print data1\n",
    "yy = data1[:,[1]]\n",
    "xx = data1[:,[3]]"
   ]
  },
  {
   "cell_type": "code",
   "execution_count": 87,
   "metadata": {},
   "outputs": [],
   "source": [
    "from sklearn.model_selection import train_test_split\n",
    "\n",
    "X_train, X_test, y_train, y_test = train_test_split(xx, yy, test_size=0.2, random_state=123)"
   ]
  },
  {
   "cell_type": "code",
   "execution_count": 88,
   "metadata": {},
   "outputs": [],
   "source": [
    "from xgboost.sklearn import XGBRegressor\n",
    "\n",
    "#Fitting XGB regressor \n",
    "xboost = XGBRegressor(n_estimators=200)"
   ]
  },
  {
   "cell_type": "code",
   "execution_count": 14,
   "metadata": {},
   "outputs": [],
   "source": [
    "import numpy as np # linear algebra\n",
    "import pandas as pd # data processing, CSV file I/O (e.g. pd.read_csv)\n",
    "import datetime # to time processes\n",
    "import seaborn as sns\n",
    "import matplotlib.pyplot as plt\n",
    "import xgboost as xgb\n",
    "from sklearn.ensemble import RandomForestRegressor\n",
    "from xgboost import plot_importance, plot_tree\n",
    "from sklearn.metrics import mean_squared_error, mean_absolute_error\n",
    "plt.style.use('fivethirtyeight')"
   ]
  },
  {
   "cell_type": "code",
   "execution_count": 89,
   "metadata": {},
   "outputs": [
    {
     "data": {
      "text/plain": [
       "XGBRegressor(base_score=0.5, booster='gbtree', colsample_bylevel=1,\n",
       "             colsample_bynode=1, colsample_bytree=1, enable_categorical=False,\n",
       "             gamma=0, gpu_id=-1, importance_type=None,\n",
       "             interaction_constraints='', learning_rate=0.300000012,\n",
       "             max_delta_step=0, max_depth=6, min_child_weight=1, missing=nan,\n",
       "             monotone_constraints='()', n_estimators=200, n_jobs=4,\n",
       "             num_parallel_tree=1, predictor='auto', random_state=0, reg_alpha=0,\n",
       "             reg_lambda=1, scale_pos_weight=1, subsample=1, tree_method='exact',\n",
       "             validate_parameters=1, verbosity=None)"
      ]
     },
     "execution_count": 89,
     "metadata": {},
     "output_type": "execute_result"
    }
   ],
   "source": [
    "xboost.fit(X_train, y_train)"
   ]
  },
  {
   "cell_type": "code",
   "execution_count": 92,
   "metadata": {},
   "outputs": [
    {
     "data": {
      "text/plain": [
       "-0.12116086097953649"
      ]
     },
     "execution_count": 92,
     "metadata": {},
     "output_type": "execute_result"
    }
   ],
   "source": [
    "xgb_score = xboost.score(X_test, y_test)\n",
    "xgb_score"
   ]
  },
  {
   "cell_type": "code",
   "execution_count": 93,
   "metadata": {},
   "outputs": [],
   "source": [
    "#Predict \n",
    "xboost_pred = xboost.predict(X_test)"
   ]
  },
  {
   "cell_type": "code",
   "execution_count": 94,
   "metadata": {},
   "outputs": [
    {
     "name": "stdout",
     "output_type": "stream",
     "text": [
      "Root mean squared error: 14.36\n"
     ]
    }
   ],
   "source": [
    "from math import sqrt\n",
    "print(\"Root mean squared error: %.2f\"\n",
    "      % sqrt(mean_squared_error(y_test, xboost_pred)))"
   ]
  },
  {
   "cell_type": "code",
   "execution_count": 107,
   "metadata": {},
   "outputs": [],
   "source": [
    "#X_ = np.linspace(xx.min(), xx.max() + 5, 50)[:, np.newaxis]\n",
    "#y_pred, y_std = xboost.predict(X_, return_std=True)\n",
    "#print y_pred\n",
    "#print y_std \n",
    "X_ = np.linspace(x.min(), x.max() + 2, 100)[:, np.newaxis]\n",
    "y_pred = xboost.predict(X_)"
   ]
  },
  {
   "cell_type": "code",
   "execution_count": 113,
   "metadata": {},
   "outputs": [
    {
     "data": {
      "image/png": "[encoded data removed]",
      "text/plain": [
       "<Figure size 720x576 with 1 Axes>"
      ]
     },
     "metadata": {},
     "output_type": "display_data"
    }
   ],
   "source": [
    " # Illustration\n",
    "fig, ax = plt.subplots(figsize=(10,8))\n",
    "\n",
    "plt.scatter(xx, yy, c='b', label = 'real value')\n",
    "\n",
    "plt.plot(X_, y_pred, 'r-', label='prediction value')\n",
    "\n",
    "myne=\"95 %Confidence Interval\"\n",
    "sigma = np.sqrt(y_pred)\n",
    "plt.fill(np.concatenate([X_, X_[::-1]]),\n",
    "         np.concatenate([y_pred - 1.3 * sigma,\n",
    "                        (y_pred + 1.3 * sigma)[::-1]]),\n",
    "                         alpha=.5, fc='Cyan', ec='None',label=myne)\n",
    "\n",
    "\n",
    "plt.xlim(23, 24)\n",
    "plt.ylim(0,60)\n",
    "plt.xlabel(\"Hour\")\n",
    "plt.ylabel(r\" AQI\")\n",
    "plt.title(r\"Hourly average AQI to 21th March\")\n",
    "plt.tight_layout()\n",
    "plt.legend()\n",
    "plt.show()"
   ]
  },
  {
   "cell_type": "code",
   "execution_count": null,
   "metadata": {},
   "outputs": [],
   "source": []
  }
 ],
 "metadata": {
  "kernelspec": {
   "display_name": "Python 3",
   "language": "python",
   "name": "python3"
  },
  "language_info": {
   "codemirror_mode": {
    "name": "ipython",
    "version": 3
   },
   "file_extension": ".py",
   "mimetype": "text/x-python",
   "name": "python",
   "nbconvert_exporter": "python",
   "pygments_lexer": "ipython3",
   "version": "3.8.3"
  }
 },
 "nbformat": 4,
 "nbformat_minor": 4
}
