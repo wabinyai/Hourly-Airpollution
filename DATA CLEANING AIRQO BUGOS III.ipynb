{
 "cells": [
  {
   "cell_type": "code",
   "execution_count": 1,
   "metadata": {},
   "outputs": [],
   "source": [
    "# Import relevant items\n",
    "import pandas as pd\n",
    "import numpy as np\n",
    "\n",
    "import seaborn as sns\n",
    "%matplotlib inline\n",
    "\n",
    "import matplotlib.pyplot as plt\n",
    "plt.style.use('ggplot')\n",
    "plt.rcParams[\"figure.figsize\"] = [16,8]"
   ]
  },
  {
   "cell_type": "code",
   "execution_count": 2,
   "metadata": {},
   "outputs": [],
   "source": [
    "\n",
    "import seaborn as sns\n",
    "\n",
    "plt.style.use('ggplot')\n",
    "plt.rcParams[\"figure.figsize\"] = [16,8]"
   ]
  },
  {
   "cell_type": "code",
   "execution_count": 27,
   "metadata": {},
   "outputs": [],
   "source": [
    "foo = r'C:\\Users\\ACER\\Desktop\\python project\\airqo/Bugolobi.csv'"
   ]
  },
  {
   "cell_type": "markdown",
   "metadata": {},
   "source": [
    "The code below uses the pd.DatetimeIndex() function to create time features like year, day of the year, quarter, month, day, weekdays, etc."
   ]
  },
  {
   "cell_type": "code",
   "execution_count": 28,
   "metadata": {},
   "outputs": [],
   "source": [
    "df= pd.read_csv(foo, parse_dates=True)\n",
    "#swaps day & month\n",
    "df.TimeStamp = pd.to_datetime(df.TimeStamp, dayfirst=True)\n",
    "#df = df.set_index('TimeStamp')\n"
   ]
  },
  {
   "cell_type": "code",
   "execution_count": 29,
   "metadata": {},
   "outputs": [
    {
     "name": "stdout",
     "output_type": "stream",
     "text": [
      "<class 'pandas.core.frame.DataFrame'>\n",
      "RangeIndex: 8057 entries, 0 to 8056\n",
      "Data columns (total 5 columns):\n",
      " #   Column     Non-Null Count  Dtype         \n",
      "---  ------     --------------  -----         \n",
      " 0   pm2_5      8057 non-null   float64       \n",
      " 1   pm10       8057 non-null   float64       \n",
      " 2   s2_pm2_5   8057 non-null   float64       \n",
      " 3   s2_pm10    8057 non-null   float64       \n",
      " 4   TimeStamp  8057 non-null   datetime64[ns]\n",
      "dtypes: datetime64[ns](1), float64(4)\n",
      "memory usage: 314.9 KB\n",
      "None\n"
     ]
    },
    {
     "data": {
      "text/html": [
       "<div>\n",
       "<style scoped>\n",
       "    .dataframe tbody tr th:only-of-type {\n",
       "        vertical-align: middle;\n",
       "    }\n",
       "\n",
       "    .dataframe tbody tr th {\n",
       "        vertical-align: top;\n",
       "    }\n",
       "\n",
       "    .dataframe thead th {\n",
       "        text-align: right;\n",
       "    }\n",
       "</style>\n",
       "<table border=\"1\" class=\"dataframe\">\n",
       "  <thead>\n",
       "    <tr style=\"text-align: right;\">\n",
       "      <th></th>\n",
       "      <th>pm2_5</th>\n",
       "      <th>pm10</th>\n",
       "      <th>s2_pm2_5</th>\n",
       "      <th>s2_pm10</th>\n",
       "      <th>TimeStamp</th>\n",
       "    </tr>\n",
       "  </thead>\n",
       "  <tbody>\n",
       "    <tr>\n",
       "      <th>0</th>\n",
       "      <td>19.80</td>\n",
       "      <td>19.90</td>\n",
       "      <td>20.77</td>\n",
       "      <td>21.88</td>\n",
       "      <td>2019-03-12 09:57:00</td>\n",
       "    </tr>\n",
       "    <tr>\n",
       "      <th>1</th>\n",
       "      <td>21.70</td>\n",
       "      <td>22.47</td>\n",
       "      <td>19.18</td>\n",
       "      <td>20.33</td>\n",
       "      <td>2019-03-12 09:58:00</td>\n",
       "    </tr>\n",
       "    <tr>\n",
       "      <th>2</th>\n",
       "      <td>13.42</td>\n",
       "      <td>14.03</td>\n",
       "      <td>14.18</td>\n",
       "      <td>15.15</td>\n",
       "      <td>2019-03-12 11:14:00</td>\n",
       "    </tr>\n",
       "    <tr>\n",
       "      <th>3</th>\n",
       "      <td>12.72</td>\n",
       "      <td>13.97</td>\n",
       "      <td>14.83</td>\n",
       "      <td>15.52</td>\n",
       "      <td>2019-03-12 11:15:00</td>\n",
       "    </tr>\n",
       "    <tr>\n",
       "      <th>4</th>\n",
       "      <td>13.93</td>\n",
       "      <td>13.97</td>\n",
       "      <td>17.40</td>\n",
       "      <td>17.87</td>\n",
       "      <td>2019-03-12 11:17:00</td>\n",
       "    </tr>\n",
       "  </tbody>\n",
       "</table>\n",
       "</div>"
      ],
      "text/plain": [
       "   pm2_5   pm10  s2_pm2_5  s2_pm10           TimeStamp\n",
       "0  19.80  19.90     20.77    21.88 2019-03-12 09:57:00\n",
       "1  21.70  22.47     19.18    20.33 2019-03-12 09:58:00\n",
       "2  13.42  14.03     14.18    15.15 2019-03-12 11:14:00\n",
       "3  12.72  13.97     14.83    15.52 2019-03-12 11:15:00\n",
       "4  13.93  13.97     17.40    17.87 2019-03-12 11:17:00"
      ]
     },
     "execution_count": 29,
     "metadata": {},
     "output_type": "execute_result"
    }
   ],
   "source": [
    "print(df.info())\n",
    "df.head(5)"
   ]
  },
  {
   "cell_type": "code",
   "execution_count": 31,
   "metadata": {},
   "outputs": [
    {
     "name": "stdout",
     "output_type": "stream",
     "text": [
      "   pm2_5   pm10  s2_pm2_5  s2_pm10           TimeStamp  mean_pm2_5  mean_pm10\n",
      "0  19.80  19.90     20.77    21.88 2019-03-12 09:57:00      20.285     20.890\n",
      "1  21.70  22.47     19.18    20.33 2019-03-12 09:58:00      20.440     21.400\n",
      "2  13.42  14.03     14.18    15.15 2019-03-12 11:14:00      13.800     14.590\n",
      "3  12.72  13.97     14.83    15.52 2019-03-12 11:15:00      13.775     14.745\n",
      "4  13.93  13.97     17.40    17.87 2019-03-12 11:17:00      15.665     15.920\n"
     ]
    },
    {
     "data": {
      "text/plain": [
       "(8057, 7)"
      ]
     },
     "execution_count": 31,
     "metadata": {},
     "output_type": "execute_result"
    }
   ],
   "source": [
    "# findng the average of both sensors\n",
    "df['mean_pm2_5'] = df.iloc[:,[0,2]].mean(axis=1)\n",
    "df['mean_pm10'] = df.iloc[:,[1,3]].mean(axis=1)\n",
    "print(df.head(5))\n",
    "df.shape"
   ]
  },
  {
   "cell_type": "code",
   "execution_count": 32,
   "metadata": {},
   "outputs": [],
   "source": [
    "import datetime\n",
    "# Rename \n",
    "df = df.rename(columns={\"TimeStamp\": \"Date\"})\n"
   ]
  },
  {
   "cell_type": "code",
   "execution_count": 33,
   "metadata": {},
   "outputs": [],
   "source": [
    "import datetime as dt\n",
    "\n",
    "df['month'] = df['Date'].dt.month_name()\n",
    "df['months'] = pd.DatetimeIndex(df['Date']).month\n",
    "df['Hour'] = pd.DatetimeIndex(df['Date']).hour\n",
    "df['Dates'] = df['Date'].dt.strftime('%Y-%m-%d')\n",
    "\n"
   ]
  },
  {
   "cell_type": "code",
   "execution_count": 35,
   "metadata": {},
   "outputs": [
    {
     "data": {
      "text/html": [
       "<div>\n",
       "<style scoped>\n",
       "    .dataframe tbody tr th:only-of-type {\n",
       "        vertical-align: middle;\n",
       "    }\n",
       "\n",
       "    .dataframe tbody tr th {\n",
       "        vertical-align: top;\n",
       "    }\n",
       "\n",
       "    .dataframe thead th {\n",
       "        text-align: right;\n",
       "    }\n",
       "</style>\n",
       "<table border=\"1\" class=\"dataframe\">\n",
       "  <thead>\n",
       "    <tr style=\"text-align: right;\">\n",
       "      <th></th>\n",
       "      <th>pm2_5</th>\n",
       "      <th>pm10</th>\n",
       "      <th>s2_pm2_5</th>\n",
       "      <th>s2_pm10</th>\n",
       "      <th>Date</th>\n",
       "      <th>mean_pm2_5</th>\n",
       "      <th>mean_pm10</th>\n",
       "      <th>month</th>\n",
       "      <th>months</th>\n",
       "      <th>Hour</th>\n",
       "      <th>Dates</th>\n",
       "    </tr>\n",
       "  </thead>\n",
       "  <tbody>\n",
       "    <tr>\n",
       "      <th>0</th>\n",
       "      <td>19.80</td>\n",
       "      <td>19.90</td>\n",
       "      <td>20.77</td>\n",
       "      <td>21.88</td>\n",
       "      <td>2019-03-12 09:57:00</td>\n",
       "      <td>20.285</td>\n",
       "      <td>20.890</td>\n",
       "      <td>March</td>\n",
       "      <td>3</td>\n",
       "      <td>9</td>\n",
       "      <td>2019-03-12</td>\n",
       "    </tr>\n",
       "    <tr>\n",
       "      <th>1</th>\n",
       "      <td>21.70</td>\n",
       "      <td>22.47</td>\n",
       "      <td>19.18</td>\n",
       "      <td>20.33</td>\n",
       "      <td>2019-03-12 09:58:00</td>\n",
       "      <td>20.440</td>\n",
       "      <td>21.400</td>\n",
       "      <td>March</td>\n",
       "      <td>3</td>\n",
       "      <td>9</td>\n",
       "      <td>2019-03-12</td>\n",
       "    </tr>\n",
       "    <tr>\n",
       "      <th>2</th>\n",
       "      <td>13.42</td>\n",
       "      <td>14.03</td>\n",
       "      <td>14.18</td>\n",
       "      <td>15.15</td>\n",
       "      <td>2019-03-12 11:14:00</td>\n",
       "      <td>13.800</td>\n",
       "      <td>14.590</td>\n",
       "      <td>March</td>\n",
       "      <td>3</td>\n",
       "      <td>11</td>\n",
       "      <td>2019-03-12</td>\n",
       "    </tr>\n",
       "    <tr>\n",
       "      <th>3</th>\n",
       "      <td>12.72</td>\n",
       "      <td>13.97</td>\n",
       "      <td>14.83</td>\n",
       "      <td>15.52</td>\n",
       "      <td>2019-03-12 11:15:00</td>\n",
       "      <td>13.775</td>\n",
       "      <td>14.745</td>\n",
       "      <td>March</td>\n",
       "      <td>3</td>\n",
       "      <td>11</td>\n",
       "      <td>2019-03-12</td>\n",
       "    </tr>\n",
       "    <tr>\n",
       "      <th>4</th>\n",
       "      <td>13.93</td>\n",
       "      <td>13.97</td>\n",
       "      <td>17.40</td>\n",
       "      <td>17.87</td>\n",
       "      <td>2019-03-12 11:17:00</td>\n",
       "      <td>15.665</td>\n",
       "      <td>15.920</td>\n",
       "      <td>March</td>\n",
       "      <td>3</td>\n",
       "      <td>11</td>\n",
       "      <td>2019-03-12</td>\n",
       "    </tr>\n",
       "  </tbody>\n",
       "</table>\n",
       "</div>"
      ],
      "text/plain": [
       "   pm2_5   pm10  s2_pm2_5  s2_pm10                Date  mean_pm2_5  mean_pm10  \\\n",
       "0  19.80  19.90     20.77    21.88 2019-03-12 09:57:00      20.285     20.890   \n",
       "1  21.70  22.47     19.18    20.33 2019-03-12 09:58:00      20.440     21.400   \n",
       "2  13.42  14.03     14.18    15.15 2019-03-12 11:14:00      13.800     14.590   \n",
       "3  12.72  13.97     14.83    15.52 2019-03-12 11:15:00      13.775     14.745   \n",
       "4  13.93  13.97     17.40    17.87 2019-03-12 11:17:00      15.665     15.920   \n",
       "\n",
       "   month  months  Hour       Dates  \n",
       "0  March       3     9  2019-03-12  \n",
       "1  March       3     9  2019-03-12  \n",
       "2  March       3    11  2019-03-12  \n",
       "3  March       3    11  2019-03-12  \n",
       "4  March       3    11  2019-03-12  "
      ]
     },
     "execution_count": 35,
     "metadata": {},
     "output_type": "execute_result"
    }
   ],
   "source": [
    "df.head()"
   ]
  },
  {
   "cell_type": "code",
   "execution_count": 36,
   "metadata": {},
   "outputs": [],
   "source": [
    "df = df.drop(df[df.s2_pm2_5  > 1001].index)\n",
    "df = df.drop(df[df.s2_pm2_5  <= 0.62].index)\n",
    "df.s2_pm2_5 = np.where(df.s2_pm2_5 >500, 500,df.s2_pm2_5)"
   ]
  },
  {
   "cell_type": "code",
   "execution_count": 37,
   "metadata": {},
   "outputs": [
    {
     "data": {
      "text/plain": [
       "0       19.80\n",
       "1       21.70\n",
       "2       13.42\n",
       "3       12.72\n",
       "4       13.93\n",
       "        ...  \n",
       "8052    34.58\n",
       "8053    37.18\n",
       "8054    36.53\n",
       "8055    34.10\n",
       "8056    36.43\n",
       "Name: pm2_5, Length: 8057, dtype: float64"
      ]
     },
     "execution_count": 37,
     "metadata": {},
     "output_type": "execute_result"
    }
   ],
   "source": [
    "df.pm2_5"
   ]
  },
  {
   "cell_type": "code",
   "execution_count": 38,
   "metadata": {},
   "outputs": [
    {
     "data": {
      "image/png": "[encoded data removed]",
      "text/plain": [
       "<Figure size 1152x576 with 1 Axes>"
      ]
     },
     "metadata": {},
     "output_type": "display_data"
    }
   ],
   "source": [
    "ax = sns.boxplot(x=\"Hour\", y=\"s2_pm2_5\", data=df)"
   ]
  },
  {
   "cell_type": "code",
   "execution_count": 41,
   "metadata": {},
   "outputs": [
    {
     "data": {
      "image/png": "[encoded data removed]",
      "text/plain": [
       "<Figure size 1152x576 with 1 Axes>"
      ]
     },
     "metadata": {},
     "output_type": "display_data"
    }
   ],
   "source": [
    "ax = sns.boxplot(x=\"Hour\", y=\"s2_pm2_5\", data=df)"
   ]
  },
  {
   "cell_type": "code",
   "execution_count": 13,
   "metadata": {},
   "outputs": [],
   "source": [
    "#df = df.drop(df[df.mean_pm2_5 > 500.1].index)"
   ]
  },
  {
   "cell_type": "code",
   "execution_count": 42,
   "metadata": {},
   "outputs": [
    {
     "data": {
      "image/png": "[encoded data removed]",
      "text/plain": [
       "<Figure size 1152x576 with 1 Axes>"
      ]
     },
     "metadata": {},
     "output_type": "display_data"
    }
   ],
   "source": [
    "ax = sns.boxplot(x=\"Dates\", y=\"s2_pm2_5\", data=df)"
   ]
  },
  {
   "cell_type": "code",
   "execution_count": 43,
   "metadata": {},
   "outputs": [
    {
     "data": {
      "image/png": "[encoded data removed]",
      "text/plain": [
       "<Figure size 1152x576 with 1 Axes>"
      ]
     },
     "metadata": {},
     "output_type": "display_data"
    }
   ],
   "source": [
    "ax = sns.boxplot(x=\"months\", y=\"s2_pm2_5\", data=df)"
   ]
  },
  {
   "cell_type": "code",
   "execution_count": 75,
   "metadata": {},
   "outputs": [
    {
     "name": "stdout",
     "output_type": "stream",
     "text": [
      "   mean_pm2_5  mean_pm10  month  months  Hour       Dates\n",
      "0      20.285     20.890  March       3     9  2019-03-12\n",
      "1      20.440     21.400  March       3     9  2019-03-12\n",
      "2      13.800     14.590  March       3    11  2019-03-12\n",
      "3      13.775     14.745  March       3    11  2019-03-12\n",
      "4      15.665     15.920  March       3    11  2019-03-12\n"
     ]
    },
    {
     "data": {
      "text/plain": [
       "(8052, 6)"
      ]
     },
     "execution_count": 75,
     "metadata": {},
     "output_type": "execute_result"
    }
   ],
   "source": [
    "# DROPPING pm2_5   pm10  s2_pm2_5  s2_pm10\n",
    "#df = df.drop(['pm2_5',   'pm10',  's2_pm2_5',  's2_pm10','Date'], axis=1)\n",
    "print(df.head(5))\n",
    "df.shape"
   ]
  },
  {
   "cell_type": "code",
   "execution_count": 43,
   "metadata": {},
   "outputs": [],
   "source": [
    "#df = df.drop(['Date'], axis=1)"
   ]
  },
  {
   "cell_type": "code",
   "execution_count": 44,
   "metadata": {},
   "outputs": [
    {
     "data": {
      "text/html": [
       "<div>\n",
       "<style scoped>\n",
       "    .dataframe tbody tr th:only-of-type {\n",
       "        vertical-align: middle;\n",
       "    }\n",
       "\n",
       "    .dataframe tbody tr th {\n",
       "        vertical-align: top;\n",
       "    }\n",
       "\n",
       "    .dataframe thead th {\n",
       "        text-align: right;\n",
       "    }\n",
       "</style>\n",
       "<table border=\"1\" class=\"dataframe\">\n",
       "  <thead>\n",
       "    <tr style=\"text-align: right;\">\n",
       "      <th></th>\n",
       "      <th>pm2_5</th>\n",
       "      <th>pm10</th>\n",
       "      <th>s2_pm2_5</th>\n",
       "      <th>s2_pm10</th>\n",
       "      <th>Date</th>\n",
       "      <th>mean_pm2_5</th>\n",
       "      <th>mean_pm10</th>\n",
       "      <th>month</th>\n",
       "      <th>months</th>\n",
       "      <th>Hour</th>\n",
       "      <th>Dates</th>\n",
       "    </tr>\n",
       "  </thead>\n",
       "  <tbody>\n",
       "    <tr>\n",
       "      <th>0</th>\n",
       "      <td>19.80</td>\n",
       "      <td>19.90</td>\n",
       "      <td>20.77</td>\n",
       "      <td>21.88</td>\n",
       "      <td>2019-03-12 09:57:00</td>\n",
       "      <td>20.285</td>\n",
       "      <td>20.890</td>\n",
       "      <td>March</td>\n",
       "      <td>3</td>\n",
       "      <td>9</td>\n",
       "      <td>2019-03-12</td>\n",
       "    </tr>\n",
       "    <tr>\n",
       "      <th>1</th>\n",
       "      <td>21.70</td>\n",
       "      <td>22.47</td>\n",
       "      <td>19.18</td>\n",
       "      <td>20.33</td>\n",
       "      <td>2019-03-12 09:58:00</td>\n",
       "      <td>20.440</td>\n",
       "      <td>21.400</td>\n",
       "      <td>March</td>\n",
       "      <td>3</td>\n",
       "      <td>9</td>\n",
       "      <td>2019-03-12</td>\n",
       "    </tr>\n",
       "    <tr>\n",
       "      <th>2</th>\n",
       "      <td>13.42</td>\n",
       "      <td>14.03</td>\n",
       "      <td>14.18</td>\n",
       "      <td>15.15</td>\n",
       "      <td>2019-03-12 11:14:00</td>\n",
       "      <td>13.800</td>\n",
       "      <td>14.590</td>\n",
       "      <td>March</td>\n",
       "      <td>3</td>\n",
       "      <td>11</td>\n",
       "      <td>2019-03-12</td>\n",
       "    </tr>\n",
       "    <tr>\n",
       "      <th>3</th>\n",
       "      <td>12.72</td>\n",
       "      <td>13.97</td>\n",
       "      <td>14.83</td>\n",
       "      <td>15.52</td>\n",
       "      <td>2019-03-12 11:15:00</td>\n",
       "      <td>13.775</td>\n",
       "      <td>14.745</td>\n",
       "      <td>March</td>\n",
       "      <td>3</td>\n",
       "      <td>11</td>\n",
       "      <td>2019-03-12</td>\n",
       "    </tr>\n",
       "    <tr>\n",
       "      <th>4</th>\n",
       "      <td>13.93</td>\n",
       "      <td>13.97</td>\n",
       "      <td>17.40</td>\n",
       "      <td>17.87</td>\n",
       "      <td>2019-03-12 11:17:00</td>\n",
       "      <td>15.665</td>\n",
       "      <td>15.920</td>\n",
       "      <td>March</td>\n",
       "      <td>3</td>\n",
       "      <td>11</td>\n",
       "      <td>2019-03-12</td>\n",
       "    </tr>\n",
       "  </tbody>\n",
       "</table>\n",
       "</div>"
      ],
      "text/plain": [
       "   pm2_5   pm10  s2_pm2_5  s2_pm10                Date  mean_pm2_5  mean_pm10  \\\n",
       "0  19.80  19.90     20.77    21.88 2019-03-12 09:57:00      20.285     20.890   \n",
       "1  21.70  22.47     19.18    20.33 2019-03-12 09:58:00      20.440     21.400   \n",
       "2  13.42  14.03     14.18    15.15 2019-03-12 11:14:00      13.800     14.590   \n",
       "3  12.72  13.97     14.83    15.52 2019-03-12 11:15:00      13.775     14.745   \n",
       "4  13.93  13.97     17.40    17.87 2019-03-12 11:17:00      15.665     15.920   \n",
       "\n",
       "   month  months  Hour       Dates  \n",
       "0  March       3     9  2019-03-12  \n",
       "1  March       3     9  2019-03-12  \n",
       "2  March       3    11  2019-03-12  \n",
       "3  March       3    11  2019-03-12  \n",
       "4  March       3    11  2019-03-12  "
      ]
     },
     "execution_count": 44,
     "metadata": {},
     "output_type": "execute_result"
    }
   ],
   "source": [
    "df.head()"
   ]
  },
  {
   "cell_type": "code",
   "execution_count": 78,
   "metadata": {},
   "outputs": [
    {
     "data": {
      "text/plain": [
       "<matplotlib.axes._subplots.AxesSubplot at 0x28a3bf25c70>"
      ]
     },
     "execution_count": 78,
     "metadata": {},
     "output_type": "execute_result"
    },
    {
     "data": {
      "image/png": "[encoded data removed]",
      "text/plain": [
       "<Figure size 1440x720 with 2 Axes>"
      ]
     },
     "metadata": {},
     "output_type": "display_data"
    }
   ],
   "source": [
    "# looking at the correlation between numerical variables\n",
    "corr = df[[\"mean_pm2_5\", \"mean_pm10\",\"Hour\"]].corr()\n",
    "mask = np.array(corr)\n",
    "mask[np.tril_indices_from(mask)] = False\n",
    "fig,ax= plt.subplots()\n",
    "fig.set_size_inches(20,10)\n",
    "sns.heatmap(corr, mask=mask,vmax=.9, square=True,annot=True, cmap=\"YlGnBu\")"
   ]
  },
  {
   "cell_type": "code",
   "execution_count": 16,
   "metadata": {},
   "outputs": [
    {
     "data": {
      "text/plain": [
       "pm2_5         0\n",
       "pm10          0\n",
       "s2_pm2_5      0\n",
       "s2_pm10       0\n",
       "Date          0\n",
       "mean_pm2_5    0\n",
       "mean_pm10     0\n",
       "month         0\n",
       "months        0\n",
       "Hour          0\n",
       "Dates         0\n",
       "dtype: int64"
      ]
     },
     "execution_count": 16,
     "metadata": {},
     "output_type": "execute_result"
    }
   ],
   "source": [
    "# looking for missing values in the datasaet\n",
    "df.isnull().sum()"
   ]
  },
  {
   "cell_type": "code",
   "execution_count": 17,
   "metadata": {},
   "outputs": [
    {
     "data": {
      "text/html": [
       "<div>\n",
       "<style scoped>\n",
       "    .dataframe tbody tr th:only-of-type {\n",
       "        vertical-align: middle;\n",
       "    }\n",
       "\n",
       "    .dataframe tbody tr th {\n",
       "        vertical-align: top;\n",
       "    }\n",
       "\n",
       "    .dataframe thead th {\n",
       "        text-align: right;\n",
       "    }\n",
       "</style>\n",
       "<table border=\"1\" class=\"dataframe\">\n",
       "  <thead>\n",
       "    <tr style=\"text-align: right;\">\n",
       "      <th></th>\n",
       "      <th>pm2_5</th>\n",
       "      <th>pm10</th>\n",
       "      <th>s2_pm2_5</th>\n",
       "      <th>s2_pm10</th>\n",
       "      <th>Date</th>\n",
       "      <th>mean_pm2_5</th>\n",
       "      <th>mean_pm10</th>\n",
       "      <th>month</th>\n",
       "      <th>months</th>\n",
       "      <th>Hour</th>\n",
       "      <th>Dates</th>\n",
       "    </tr>\n",
       "  </thead>\n",
       "  <tbody>\n",
       "    <tr>\n",
       "      <th>0</th>\n",
       "      <td>19.80</td>\n",
       "      <td>19.90</td>\n",
       "      <td>20.77</td>\n",
       "      <td>21.88</td>\n",
       "      <td>2019-03-12 09:57:00</td>\n",
       "      <td>20.285</td>\n",
       "      <td>20.890</td>\n",
       "      <td>March</td>\n",
       "      <td>3</td>\n",
       "      <td>9</td>\n",
       "      <td>2019-03-12</td>\n",
       "    </tr>\n",
       "    <tr>\n",
       "      <th>1</th>\n",
       "      <td>21.70</td>\n",
       "      <td>22.47</td>\n",
       "      <td>19.18</td>\n",
       "      <td>20.33</td>\n",
       "      <td>2019-03-12 09:58:00</td>\n",
       "      <td>20.440</td>\n",
       "      <td>21.400</td>\n",
       "      <td>March</td>\n",
       "      <td>3</td>\n",
       "      <td>9</td>\n",
       "      <td>2019-03-12</td>\n",
       "    </tr>\n",
       "    <tr>\n",
       "      <th>2</th>\n",
       "      <td>13.42</td>\n",
       "      <td>14.03</td>\n",
       "      <td>14.18</td>\n",
       "      <td>15.15</td>\n",
       "      <td>2019-03-12 11:14:00</td>\n",
       "      <td>13.800</td>\n",
       "      <td>14.590</td>\n",
       "      <td>March</td>\n",
       "      <td>3</td>\n",
       "      <td>11</td>\n",
       "      <td>2019-03-12</td>\n",
       "    </tr>\n",
       "    <tr>\n",
       "      <th>3</th>\n",
       "      <td>12.72</td>\n",
       "      <td>13.97</td>\n",
       "      <td>14.83</td>\n",
       "      <td>15.52</td>\n",
       "      <td>2019-03-12 11:15:00</td>\n",
       "      <td>13.775</td>\n",
       "      <td>14.745</td>\n",
       "      <td>March</td>\n",
       "      <td>3</td>\n",
       "      <td>11</td>\n",
       "      <td>2019-03-12</td>\n",
       "    </tr>\n",
       "    <tr>\n",
       "      <th>4</th>\n",
       "      <td>13.93</td>\n",
       "      <td>13.97</td>\n",
       "      <td>17.40</td>\n",
       "      <td>17.87</td>\n",
       "      <td>2019-03-12 11:17:00</td>\n",
       "      <td>15.665</td>\n",
       "      <td>15.920</td>\n",
       "      <td>March</td>\n",
       "      <td>3</td>\n",
       "      <td>11</td>\n",
       "      <td>2019-03-12</td>\n",
       "    </tr>\n",
       "  </tbody>\n",
       "</table>\n",
       "</div>"
      ],
      "text/plain": [
       "   pm2_5   pm10  s2_pm2_5  s2_pm10                Date  mean_pm2_5  mean_pm10  \\\n",
       "0  19.80  19.90     20.77    21.88 2019-03-12 09:57:00      20.285     20.890   \n",
       "1  21.70  22.47     19.18    20.33 2019-03-12 09:58:00      20.440     21.400   \n",
       "2  13.42  14.03     14.18    15.15 2019-03-12 11:14:00      13.800     14.590   \n",
       "3  12.72  13.97     14.83    15.52 2019-03-12 11:15:00      13.775     14.745   \n",
       "4  13.93  13.97     17.40    17.87 2019-03-12 11:17:00      15.665     15.920   \n",
       "\n",
       "   month  months  Hour       Dates  \n",
       "0  March       3     9  2019-03-12  \n",
       "1  March       3     9  2019-03-12  \n",
       "2  March       3    11  2019-03-12  \n",
       "3  March       3    11  2019-03-12  \n",
       "4  March       3    11  2019-03-12  "
      ]
     },
     "execution_count": 17,
     "metadata": {},
     "output_type": "execute_result"
    }
   ],
   "source": [
    "df.head()"
   ]
  },
  {
   "cell_type": "code",
   "execution_count": 80,
   "metadata": {},
   "outputs": [
    {
     "data": {
      "image/png": "[encoded data removed]",
      "text/plain": [
       "<Figure size 1152x576 with 1 Axes>"
      ]
     },
     "metadata": {},
     "output_type": "display_data"
    }
   ],
   "source": [
    "ax = sns.boxplot(x=\"month\", y=\"mean_pm2_5\", data=df)"
   ]
  },
  {
   "cell_type": "code",
   "execution_count": 17,
   "metadata": {},
   "outputs": [
    {
     "name": "stdout",
     "output_type": "stream",
     "text": [
      "Date\n",
      "2019-03-12 09:00:00    19.975000\n",
      "2019-03-12 11:00:00    15.408571\n",
      "2019-03-12 12:00:00    14.654348\n",
      "2019-03-12 13:00:00    14.365435\n",
      "2019-03-12 14:00:00    15.451739\n",
      "Name: s2_pm2_5, dtype: float64\n",
      "(179,)\n"
     ]
    }
   ],
   "source": [
    "daily = df.set_index('Date').groupby(pd.Grouper(freq='H'))['s2_pm2_5'].mean()\n",
    "monthly = daily.groupby(pd.Grouper(freq='H')).mean()\n",
    "#Dropping all Nan values\n",
    "monthlys = monthly.dropna(axis=0)\n",
    "print (monthlys.head())\n",
    "print (monthlys.shape)"
   ]
  },
  {
   "cell_type": "code",
   "execution_count": 26,
   "metadata": {},
   "outputs": [],
   "source": [
    "df1 =df[['Date','s2_pm2_5']]"
   ]
  },
  {
   "cell_type": "code",
   "execution_count": 50,
   "metadata": {},
   "outputs": [],
   "source": [
    "# saving the houry average data fro PM2.5\n",
    "df.to_csv(r'C:\\Users\\ACER\\Desktop\\python project\\airqo/BugolobiHOULYNUMPY.csv',index = True)"
   ]
  },
  {
   "cell_type": "code",
   "execution_count": 49,
   "metadata": {},
   "outputs": [
    {
     "data": {
      "text/html": [
       "<div>\n",
       "<style scoped>\n",
       "    .dataframe tbody tr th:only-of-type {\n",
       "        vertical-align: middle;\n",
       "    }\n",
       "\n",
       "    .dataframe tbody tr th {\n",
       "        vertical-align: top;\n",
       "    }\n",
       "\n",
       "    .dataframe thead th {\n",
       "        text-align: right;\n",
       "    }\n",
       "</style>\n",
       "<table border=\"1\" class=\"dataframe\">\n",
       "  <thead>\n",
       "    <tr style=\"text-align: right;\">\n",
       "      <th></th>\n",
       "      <th>pm2_5</th>\n",
       "      <th>pm10</th>\n",
       "      <th>s2_pm2_5</th>\n",
       "      <th>s2_pm10</th>\n",
       "      <th>Date</th>\n",
       "      <th>mean_pm2_5</th>\n",
       "      <th>mean_pm10</th>\n",
       "      <th>month</th>\n",
       "      <th>months</th>\n",
       "      <th>Hour</th>\n",
       "      <th>Dates</th>\n",
       "    </tr>\n",
       "  </thead>\n",
       "  <tbody>\n",
       "    <tr>\n",
       "      <th>0</th>\n",
       "      <td>19.80</td>\n",
       "      <td>19.90</td>\n",
       "      <td>20.77</td>\n",
       "      <td>21.88</td>\n",
       "      <td>2019-03-12 09:57:00</td>\n",
       "      <td>20.285</td>\n",
       "      <td>20.890</td>\n",
       "      <td>March</td>\n",
       "      <td>3</td>\n",
       "      <td>9</td>\n",
       "      <td>2019-03-12</td>\n",
       "    </tr>\n",
       "    <tr>\n",
       "      <th>1</th>\n",
       "      <td>21.70</td>\n",
       "      <td>22.47</td>\n",
       "      <td>19.18</td>\n",
       "      <td>20.33</td>\n",
       "      <td>2019-03-12 09:58:00</td>\n",
       "      <td>20.440</td>\n",
       "      <td>21.400</td>\n",
       "      <td>March</td>\n",
       "      <td>3</td>\n",
       "      <td>9</td>\n",
       "      <td>2019-03-12</td>\n",
       "    </tr>\n",
       "    <tr>\n",
       "      <th>2</th>\n",
       "      <td>13.42</td>\n",
       "      <td>14.03</td>\n",
       "      <td>14.18</td>\n",
       "      <td>15.15</td>\n",
       "      <td>2019-03-12 11:14:00</td>\n",
       "      <td>13.800</td>\n",
       "      <td>14.590</td>\n",
       "      <td>March</td>\n",
       "      <td>3</td>\n",
       "      <td>11</td>\n",
       "      <td>2019-03-12</td>\n",
       "    </tr>\n",
       "    <tr>\n",
       "      <th>3</th>\n",
       "      <td>12.72</td>\n",
       "      <td>13.97</td>\n",
       "      <td>14.83</td>\n",
       "      <td>15.52</td>\n",
       "      <td>2019-03-12 11:15:00</td>\n",
       "      <td>13.775</td>\n",
       "      <td>14.745</td>\n",
       "      <td>March</td>\n",
       "      <td>3</td>\n",
       "      <td>11</td>\n",
       "      <td>2019-03-12</td>\n",
       "    </tr>\n",
       "    <tr>\n",
       "      <th>4</th>\n",
       "      <td>13.93</td>\n",
       "      <td>13.97</td>\n",
       "      <td>17.40</td>\n",
       "      <td>17.87</td>\n",
       "      <td>2019-03-12 11:17:00</td>\n",
       "      <td>15.665</td>\n",
       "      <td>15.920</td>\n",
       "      <td>March</td>\n",
       "      <td>3</td>\n",
       "      <td>11</td>\n",
       "      <td>2019-03-12</td>\n",
       "    </tr>\n",
       "  </tbody>\n",
       "</table>\n",
       "</div>"
      ],
      "text/plain": [
       "   pm2_5   pm10  s2_pm2_5  s2_pm10                Date  mean_pm2_5  mean_pm10  \\\n",
       "0  19.80  19.90     20.77    21.88 2019-03-12 09:57:00      20.285     20.890   \n",
       "1  21.70  22.47     19.18    20.33 2019-03-12 09:58:00      20.440     21.400   \n",
       "2  13.42  14.03     14.18    15.15 2019-03-12 11:14:00      13.800     14.590   \n",
       "3  12.72  13.97     14.83    15.52 2019-03-12 11:15:00      13.775     14.745   \n",
       "4  13.93  13.97     17.40    17.87 2019-03-12 11:17:00      15.665     15.920   \n",
       "\n",
       "   month  months  Hour       Dates  \n",
       "0  March       3     9  2019-03-12  \n",
       "1  March       3     9  2019-03-12  \n",
       "2  March       3    11  2019-03-12  \n",
       "3  March       3    11  2019-03-12  \n",
       "4  March       3    11  2019-03-12  "
      ]
     },
     "execution_count": 49,
     "metadata": {},
     "output_type": "execute_result"
    }
   ],
   "source": [
    "df.head()"
   ]
  },
  {
   "cell_type": "code",
   "execution_count": null,
   "metadata": {},
   "outputs": [],
   "source": []
  },
  {
   "cell_type": "code",
   "execution_count": null,
   "metadata": {},
   "outputs": [],
   "source": []
  }
 ],
 "metadata": {
  "kernelspec": {
   "display_name": "Python 3",
   "language": "python",
   "name": "python3"
  },
  "language_info": {
   "codemirror_mode": {
    "name": "ipython",
    "version": 3
   },
   "file_extension": ".py",
   "mimetype": "text/x-python",
   "name": "python",
   "nbconvert_exporter": "python",
   "pygments_lexer": "ipython3",
   "version": "3.8.3"
  }
 },
 "nbformat": 4,
 "nbformat_minor": 4
}
